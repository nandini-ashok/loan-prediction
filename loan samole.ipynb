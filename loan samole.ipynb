{
 "cells": [
  {
   "cell_type": "code",
   "execution_count": 1,
   "metadata": {},
   "outputs": [],
   "source": [
    "import pandas as pd\n",
    "import numpy as np                     # For mathematical calculations\n",
    "import seaborn as sns                  # For data visualization\n",
    "import matplotlib.pyplot as plt        # For plotting graphs\n",
    "%matplotlib inline\n",
    "import warnings                        # To ignore any warnings\n",
    "warnings.filterwarnings(\"ignore\")\n",
    "train=pd.read_csv(\"train.csv\")\n",
    "test=pd.read_csv(\"test.csv\")"
   ]
  },
  {
   "cell_type": "code",
   "execution_count": 2,
   "metadata": {},
   "outputs": [
    {
     "data": {
      "image/png": "[encoded data removed]",
      "text/plain": [
       "<Figure size 720x576 with 1 Axes>"
      ]
     },
     "metadata": {},
     "output_type": "display_data"
    }
   ],
   "source": [
    "train['Dependents'].replace('3+', 4,inplace=True)\n",
    "test['Dependents'].replace('3+', 4,inplace=True)\n",
    "train['Loan_Status'].replace('N', 0,inplace=True)\n",
    "train['Loan_Status'].replace('Y', 1,inplace=True)\n",
    "train['Gender'].fillna(train['Gender'].mode()[0], inplace=True)\n",
    "train['Married'].fillna(train['Married'].mode()[0], inplace=True)\n",
    "train['Dependents'].fillna(train['Dependents'].mode()[0], inplace=True)\n",
    "train['Self_Employed'].fillna(train['Self_Employed'].mode()[0], inplace=True)\n",
    "train['Credit_History'].fillna(train['Credit_History'].mode()[0], inplace=True)\n",
    "train['Loan_Amount_Term'].fillna(train['Loan_Amount_Term'].mode()[0], inplace=True)\n",
    "train['LoanAmount'].fillna(train['LoanAmount'].median(), inplace=True)\n",
    "test['Gender'].fillna(train['Gender'].mode()[0], inplace=True)\n",
    "test['Dependents'].fillna(train['Dependents'].mode()[0], inplace=True)\n",
    "test['Self_Employed'].fillna(train['Self_Employed'].mode()[0], inplace=True)\n",
    "test['Credit_History'].fillna(train['Credit_History'].mode()[0], inplace=True)\n",
    "test['Loan_Amount_Term'].fillna(train['Loan_Amount_Term'].mode()[0], inplace=True)\n",
    "test['LoanAmount'].fillna(train['LoanAmount'].median(), inplace=True)\n",
    "train=train.iloc[:,1:]\n",
    "train.replace(\"Male\",1,inplace=True)\n",
    "train.replace(\"Female\",0,inplace=True)\n",
    "train[\"Married\"].replace(\"No\",0,inplace=True)\n",
    "train[\"Married\"].replace(\"Yes\",1,inplace=True)\n",
    "train[\"Education\"].replace(\"Graduate\",1,inplace=True)\n",
    "train[\"Education\"].replace(\"Not Graduate\",0,inplace=True)\n",
    "train[\"Self_Employed\"].replace(\"No\",0,inplace=True)\n",
    "train[\"Self_Employed\"].replace(\"Yes\",1,inplace=True)\n",
    "train[\"Property_Area\"].replace(\"Urban\",1,inplace=True)\n",
    "train[\"Property_Area\"].replace(\"Rural\",0,inplace=True)\n",
    "train[\"Property_Area\"].replace(\"Semiurban\",0.5,inplace=True)\n",
    "train[\"total_income\"]=train[\"ApplicantIncome\"]+train[\"CoapplicantIncome\"]\n",
    "test[\"total_income\"]=test[\"ApplicantIncome\"]+test[\"CoapplicantIncome\"]\n",
    "train[\"EMI\"]=train[\"LoanAmount\"]*1000/train[\"Loan_Amount_Term\"]\n",
    "test[\"EMI\"]=test[\"LoanAmount\"]*1000/test[\"Loan_Amount_Term\"]\n",
    "train=train.drop([\"ApplicantIncome\",\"CoapplicantIncome\",\"LoanAmount\",\"Loan_Amount_Term\"],axis=1)\n",
    "test=test.drop([\"ApplicantIncome\",\"CoapplicantIncome\",\"LoanAmount\",\"Loan_Amount_Term\"],axis=1)\n",
    "train[\"total_income\"]=np.log(train[\"total_income\"])\n",
    "test[\"total_income\"]=np.log(test[\"total_income\"])\n",
    "train[\"EMI\"]=np.log(train[\"EMI\"])\n",
    "test[\"EMI\"]=np.log(test[\"EMI\"])\n",
    "from sklearn.metrics import pairwise_distances\n",
    "from sklearn.metrics import silhouette_score\n",
    "from scipy.cluster.hierarchy import linkage, dendrogram, cut_tree\n",
    "d=pairwise_distances(X=train.iloc[:,:-1],n_jobs=-1)\n",
    "links_train=linkage(y=d,method=\"complete\")\n",
    "import matplotlib.pyplot as plt\n",
    "plt.figure(figsize=(10,8))\n",
    "dend=dendrogram(links_train)\n",
    "\n"
   ]
  },
  {
   "cell_type": "code",
   "execution_count": 3,
   "metadata": {},
   "outputs": [
    {
     "data": {
      "text/plain": [
       "array([0, 1, 2])"
      ]
     },
     "execution_count": 3,
     "metadata": {},
     "output_type": "execute_result"
    }
   ],
   "source": [
    "cluster_2_train=cut_tree(links_train,height=50).flatten()\n",
    "cluster_3_train=cut_tree(links_train,height=35).flatten()\n",
    "cluster_6_train=cut_tree(links_train,height=28).flatten()\n",
    "np.unique(cluster_3_train)"
   ]
  },
  {
   "cell_type": "code",
   "execution_count": 4,
   "metadata": {},
   "outputs": [],
   "source": [
    "train[\"cluster\"]=cluster_3_train"
   ]
  },
  {
   "cell_type": "code",
   "execution_count": 5,
   "metadata": {},
   "outputs": [],
   "source": [
    "y=train[\"Loan_Status\"]\n",
    "x=train.drop(\"Loan_Status\",axis=1)"
   ]
  },
  {
   "cell_type": "code",
   "execution_count": 6,
   "metadata": {},
   "outputs": [],
   "source": [
    "x=pd.get_dummies(x)\n",
    "from sklearn.model_selection import train_test_split\n",
    "x_train, x_cv, y_train, y_cv = train_test_split(x,y, test_size =0.3)\n"
   ]
  },
  {
   "cell_type": "code",
   "execution_count": 118,
   "metadata": {},
   "outputs": [],
   "source": [
    "from sklearn.metrics import cohen_kappa_score, make_scorer\n",
    "from sklearn.linear_model import LogisticRegression\n",
    "from sklearn.metrics import accuracy_score\n",
    "model = LogisticRegression()\n",
    "model.fit(x_train, y_train)\n",
    "pred=model.predict(x_cv)\n",
    "from sklearn.neighbors import KNeighborsClassifier\n",
    "from sklearn.grid_search import GridSearchCV\n",
    "knn=KNeighborsClassifier()\n",
    "from sklearn.ensemble import AdaBoostClassifier, BaggingClassifier\n",
    "knn_bagged=BaggingClassifier(base_estimator=knn,n_estimators=50,random_state=1234)\n",
    "knn_bagged_param_grid={'n_estimators':[30,50,70,100],'base_estimator__n_neighbors':[1,3,5,7]}\n",
    "best_bagged_knn=GridSearchCV(estimator=knn_bagged,param_grid=knn_bagged_param_grid,scoring='roc_auc',n_jobs=-1,cv=5)\n",
    "best_bagged_knn.fit(x,y)\n",
    "pred_knn_bagged=best_bagged_knn.predict(x)\n",
    "from sklearn.tree import DecisionTreeClassifier\n",
    "from sklearn.model_selection import GridSearchCV\n",
    "tree_base=DecisionTreeClassifier()\n",
    "tree_bagged=BaggingClassifier(base_estimator=tree_base)\n",
    "tree_bagged_param_grid={'n_estimators':[50,100],'base_estimator__max_depth':[5,7,9],'base_estimator__criterion':['gini','entropy']}\n",
    "best_bagged_tree=GridSearchCV(estimator=tree_bagged,param_grid=tree_bagged_param_grid,scoring='roc_auc',n_jobs=-1,cv=5)\n",
    "best_bagged_tree.fit(x_train,y_train)\n",
    "pred_tree_bagged=best_bagged_tree.predict(x_cv)\n"
   ]
  },
  {
   "cell_type": "code",
   "execution_count": 12,
   "metadata": {},
   "outputs": [
    {
     "data": {
      "text/plain": [
       "(185,)"
      ]
     },
     "execution_count": 12,
     "metadata": {},
     "output_type": "execute_result"
    }
   ],
   "source": [
    "pred_tree_random.shape"
   ]
  },
  {
   "cell_type": "code",
   "execution_count": 13,
   "metadata": {},
   "outputs": [
    {
     "data": {
      "text/plain": [
       "(0.5377451351555993, 0.8216216216216217)"
      ]
     },
     "execution_count": 13,
     "metadata": {},
     "output_type": "execute_result"
    }
   ],
   "source": [
    "from sklearn.ensemble import RandomForestClassifier\n",
    "from sklearn.model_selection import GridSearchCV,cross_val_score,train_test_split\n",
    "from sklearn.metrics import accuracy_score,cohen_kappa_score\n",
    "\n",
    "rf=RandomForestClassifier()\n",
    "rf_param={\"n_estimators\":[50,60,100],'max_features':[7,9]}\n",
    "best_rf=GridSearchCV(estimator=rf,param_grid=rf_param,scoring='accuracy',cv=5,n_jobs=-1)\n",
    "best_rf.fit(x_train,y_train)\n",
    "pred_tree_random=best_rf.predict(x_cv)\n",
    "cohen_kappa_score(y_cv,pred_tree_random),accuracy_score(y_cv,pred_tree_random)"
   ]
  },
  {
   "cell_type": "code",
   "execution_count": 119,
   "metadata": {},
   "outputs": [
    {
     "name": "stdout",
     "output_type": "stream",
     "text": [
      "logistic regression 0.4911591355599214 0.8108108108108109\n",
      "knn_bagged 0.48054145516074454 0.8061889250814332\n",
      "tree_bagged 0.49630493971217426 0.8108108108108109\n"
     ]
    }
   ],
   "source": [
    "print(\"logistic regression\",cohen_kappa_score(pred,y_cv),accuracy_score(pred,y_cv))\n",
    "print(\"knn_bagged\",cohen_kappa_score(y,pred_knn_bagged),accuracy_score(y,pred_knn_bagged))\n",
    "print(\"tree_bagged\",cohen_kappa_score(pred_tree_bagged,y_cv),accuracy_score(y_cv,pred_tree_bagged))"
   ]
  },
  {
   "cell_type": "code",
   "execution_count": 14,
   "metadata": {},
   "outputs": [
    {
     "data": {
      "image/png": "[encoded data removed]",
      "text/plain": [
       "<Figure size 720x576 with 1 Axes>"
      ]
     },
     "metadata": {},
     "output_type": "display_data"
    }
   ],
   "source": [
    "test.replace(\"Male\",1,inplace=True)\n",
    "test.replace(\"Female\",0,inplace=True)\n",
    "test[\"Married\"].replace(\"No\",0,inplace=True)\n",
    "test[\"Married\"].replace(\"Yes\",1,inplace=True)\n",
    "test[\"Education\"].replace(\"Graduate\",1,inplace=True)\n",
    "test[\"Education\"].replace(\"Not Graduate\",0,inplace=True)\n",
    "test[\"Self_Employed\"].replace(\"No\",0,inplace=True)\n",
    "test[\"Self_Employed\"].replace(\"Yes\",1,inplace=True)\n",
    "test[\"Property_Area\"].replace(\"Urban\",1,inplace=True)\n",
    "test[\"Property_Area\"].replace(\"Rural\",0,inplace=True)\n",
    "test[\"Property_Area\"].replace(\"Semiurban\",0.5,inplace=True)\n",
    "test=test.iloc[:,1:]\n",
    "d=pairwise_distances(X=test,n_jobs=-1)\n",
    "links_test=linkage(y=d,method=\"complete\")\n",
    "import matplotlib.pyplot as plt\n",
    "plt.figure(figsize=(10,8))\n",
    "dend=dendrogram(links_test)"
   ]
  },
  {
   "cell_type": "code",
   "execution_count": 18,
   "metadata": {},
   "outputs": [
    {
     "data": {
      "text/plain": [
       "array([0, 1, 2])"
      ]
     },
     "execution_count": 18,
     "metadata": {},
     "output_type": "execute_result"
    }
   ],
   "source": [
    "cluster_3_test=cut_tree(links_test,height=35).flatten()\n",
    "np.unique(cluster_3_test)"
   ]
  },
  {
   "cell_type": "code",
   "execution_count": 19,
   "metadata": {},
   "outputs": [],
   "source": [
    "test[\"cluster\"]=cluster_3_test"
   ]
  },
  {
   "cell_type": "code",
   "execution_count": 20,
   "metadata": {},
   "outputs": [
    {
     "data": {
      "text/plain": [
       "(Index(['Gender', 'Married', 'Education', 'Self_Employed', 'Credit_History',\n",
       "        'Property_Area', 'total_income', 'EMI', 'cluster', 'Dependents_4',\n",
       "        'Dependents_0', 'Dependents_1', 'Dependents_2'],\n",
       "       dtype='object'),\n",
       " Index(['Gender', 'Married', 'Dependents', 'Education', 'Self_Employed',\n",
       "        'Credit_History', 'Property_Area', 'total_income', 'EMI', 'cluster'],\n",
       "       dtype='object'))"
      ]
     },
     "execution_count": 20,
     "metadata": {},
     "output_type": "execute_result"
    }
   ],
   "source": [
    "x.columns,test.columns"
   ]
  },
  {
   "cell_type": "code",
   "execution_count": 22,
   "metadata": {},
   "outputs": [],
   "source": [
    "test=pd.get_dummies(test)"
   ]
  },
  {
   "cell_type": "code",
   "execution_count": 23,
   "metadata": {},
   "outputs": [],
   "source": [
    "solution=best_rf.predict(test)\n"
   ]
  },
  {
   "cell_type": "code",
   "execution_count": 24,
   "metadata": {},
   "outputs": [],
   "source": [
    "sample_submission=pd.read_csv(\"Sample_Submission.csv\")\n",
    "test=pd.read_csv(\"test.csv\")\n",
    "sample_submission[\"Loan_ID\"]=test[\"Loan_ID\"]\n",
    "sample_submission[\"Loan_Status\"]=solution\n",
    "sample_submission[\"Loan_Status\"]=sample_submission[\"Loan_Status\"].replace(1,\"Y\")\n",
    "sample_submission[\"Loan_Status\"]=sample_submission[\"Loan_Status\"].replace(0,\"N\")\n",
    "sample_submission.to_csv(\"Sample_Submission.csv\",index=False)"
   ]
  }
 ],
 "metadata": {
  "kernelspec": {
   "display_name": "Python 3",
   "language": "python",
   "name": "python3"
  },
  "language_info": {
   "codemirror_mode": {
    "name": "ipython",
    "version": 3
   },
   "file_extension": ".py",
   "mimetype": "text/x-python",
   "name": "python",
   "nbconvert_exporter": "python",
   "pygments_lexer": "ipython3",
   "version": "3.6.5"
  }
 },
 "nbformat": 4,
 "nbformat_minor": 2
}
